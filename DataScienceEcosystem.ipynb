{
 "cells": [
  {
   "cell_type": "markdown",
   "id": "e87c2b6c-b1cd-40fe-91cc-e29658a93b88",
   "metadata": {
    "tags": []
   },
   "source": [
    "# Data Science Tools and Ecosystem"
   ]
  },
  {
   "cell_type": "markdown",
   "id": "721366e9-fe3f-4fb6-adb6-3bd66bc24f81",
   "metadata": {
    "tags": []
   },
   "source": [
    "In this notebook, Data Science Tools and Ecosystem are summarized.\n"
   ]
  },
  {
   "cell_type": "markdown",
   "id": "3beea2b9-814a-4c3c-970b-a87258855125",
   "metadata": {
    "tags": []
   },
   "source": [
    "**Objectives:**\n",
    "* Making markdown in jupyter\n",
    "* List popular languages for Data Science \n",
    "* List commonly used libraries for Data Scientists\n",
    "* Evaluating arithmetic expressions in Python"
   ]
  },
  {
   "cell_type": "markdown",
   "id": "428c8783-72b2-4fea-8b9d-e01bc0b2be88",
   "metadata": {
    "tags": []
   },
   "source": [
    "Some of the popular languages that Data Scientists use are:\n",
    "\n",
    "1. python\n",
    "2. R\n",
    "3. SQL\n",
    "4. Java\n",
    "5. Julia"
   ]
  },
  {
   "cell_type": "markdown",
   "id": "376e3130-a12e-4f68-9bf9-382bc836b456",
   "metadata": {
    "tags": []
   },
   "source": [
    "Some of the commonly used libraries used by Data Scientists include:\n",
    "\n",
    "1. Numpy\n",
    "2. Pandsas\n",
    "3. ggplot"
   ]
  },
  {
   "cell_type": "markdown",
   "id": "3e03c7ff-c414-4fac-b867-764f35bf4637",
   "metadata": {},
   "source": [
    " |Data Sciense Tools|\n",
    "------------------\n",
    "|jupyter lab|\n",
    "|spyder|\n",
    "|RStudio|"
   ]
  },
  {
   "cell_type": "markdown",
   "id": "6b9ca3d5-8c36-4df2-9591-ff8421bb5336",
   "metadata": {
    "tags": []
   },
   "source": [
    "### Below are a few examples of evaluating arithmetic expressions in Python."
   ]
  },
  {
   "cell_type": "code",
   "execution_count": 8,
   "id": "0c5668a1-42d9-4882-bd1d-b1cd3185db95",
   "metadata": {
    "tags": []
   },
   "outputs": [
    {
     "data": {
      "text/plain": [
       "17"
      ]
     },
     "execution_count": 8,
     "metadata": {},
     "output_type": "execute_result"
    }
   ],
   "source": [
    "# This a simple arithmetic expression to mutiply then add integers.\n",
    "(3*4)+5"
   ]
  },
  {
   "cell_type": "code",
   "execution_count": 21,
   "id": "9d362e87-bb6b-4464-b6f0-7e871fe39d60",
   "metadata": {
    "tags": []
   },
   "outputs": [
    {
     "name": "stdout",
     "output_type": "stream",
     "text": [
      "hours is: 3.3333333333333335\n"
     ]
    }
   ],
   "source": [
    "# This will convert 200 minutes to hours bydiving by 60\n",
    "minutes = 200\n",
    "hours = minutes / 60\n",
    "print(\"hours is: \" + str(hours))"
   ]
  },
  {
   "cell_type": "markdown",
   "id": "8f637e04-b69f-45f3-8496-8abae7e2c4ae",
   "metadata": {},
   "source": [
    "## Author\n",
    "Mehran Rahimzadeh"
   ]
  }
 ],
 "metadata": {
  "kernelspec": {
   "display_name": "Python 3 (ipykernel)",
   "language": "python",
   "name": "python3"
  },
  "language_info": {
   "codemirror_mode": {
    "name": "ipython",
    "version": 3
   },
   "file_extension": ".py",
   "mimetype": "text/x-python",
   "name": "python",
   "nbconvert_exporter": "python",
   "pygments_lexer": "ipython3",
   "version": "3.10.12"
  },
  "widgets": {
   "application/vnd.jupyter.widget-state+json": {
    "state": {},
    "version_major": 2,
    "version_minor": 0
   }
  }
 },
 "nbformat": 4,
 "nbformat_minor": 5
}
